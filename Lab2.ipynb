{
 "cells": [
  {
   "cell_type": "code",
   "execution_count": 160,
   "id": "ef8ac189",
   "metadata": {},
   "outputs": [],
   "source": [
    "import pandas as pd\n",
    "import itertools\n",
    "import requests"
   ]
  },
  {
   "cell_type": "code",
   "execution_count": 161,
   "id": "be8a28b8",
   "metadata": {},
   "outputs": [],
   "source": [
    "MIN_SUP = 0.03"
   ]
  },
  {
   "cell_type": "code",
   "execution_count": 162,
   "id": "135c4156",
   "metadata": {},
   "outputs": [],
   "source": [
    "bakery_items_url = \"http://users.csc.calpoly.edu/~dekhtyar/466-Fall2021/data/BAKERY/goods.csv\"\n",
    "bakery_dataset5000_url = \"http://users.csc.calpoly.edu/~dekhtyar/466-Fall2021/data/BAKERY/5000/5000-out1.csv\"\n",
    "bakery_dataset20000_url = \"http://users.csc.calpoly.edu/~dekhtyar/466-Fall2021/data/BAKERY/20000/20000-out1.csv\"\n",
    "bakery_dataset75000_url = \"http://users.csc.calpoly.edu/~dekhtyar/466-Fall2021/data/BAKERY/75000/75000-out1.csv\"\n",
    "authors_list_url = \"http://users.csc.calpoly.edu/~dekhtyar/466-Fall2021/data/BINGO/authorlist.psv\"\n",
    "bingo_dataset_url = \"http://users.csc.calpoly.edu/~dekhtyar/466-Fall2021/data/BINGO/bingoBaskets.csv\""
   ]
  },
  {
   "cell_type": "code",
   "execution_count": 163,
   "id": "4b7cd067",
   "metadata": {},
   "outputs": [],
   "source": [
    "def from_url(url):\n",
    "    return requests.get(url).text\n",
    "\n",
    "def parse_csv(csv_raw):\n",
    "    lines = csv_raw.strip().split('\\n')\n",
    "    max_len = 0\n",
    "    index = []\n",
    "    rows = []\n",
    "    for line in lines:\n",
    "        parts = list(map(int, line.strip().split(\",\")))\n",
    "        index.append(parts[0])\n",
    "        row = parts[1:]\n",
    "        if len(row) > max_len:\n",
    "            max_len = len(row)\n",
    "        rows.append(row)\n",
    "    \n",
    "    for row in rows:\n",
    "        for i in range(len(row), max_len):\n",
    "            row.append(-1)\n",
    "    \n",
    "    return pd.DataFrame(rows, index = index)"
   ]
  },
  {
   "cell_type": "code",
   "execution_count": 164,
   "id": "ce5a2645",
   "metadata": {},
   "outputs": [],
   "source": [
    "def parse_psv(psv_raw):\n",
    "    lines = psv_raw.strip().split(\"\\n\")\n",
    "    index = []\n",
    "    columns = [\"Name\"]\n",
    "    rows = []\n",
    "    for line in lines:\n",
    "        parts = line.split(\"|\")\n",
    "        index.append(int(parts[0].strip()))\n",
    "        rows.append(parts[1].strip())\n",
    "    return pd.DataFrame(rows, columns=columns, index=index)"
   ]
  },
  {
   "cell_type": "code",
   "execution_count": 165,
   "id": "502b3850",
   "metadata": {},
   "outputs": [],
   "source": [
    "bakery_items = set(pd.read_csv(bakery_items_url)[\"Id\"])\n",
    "bingo_items = set(parse_psv(from_url(authors_list_url)).index)"
   ]
  },
  {
   "cell_type": "code",
   "execution_count": 166,
   "id": "1de02ac4",
   "metadata": {},
   "outputs": [],
   "source": [
    "# given a set of frequent itemsets F and a candidate \n",
    "# frequent item set of size k, checks whether all\n",
    "# k-1 size subsets are in F\n",
    "def is_valid_candidate(F, u):\n",
    "    for elem in u:\n",
    "        if (u - {elem}) not in F:\n",
    "            return False\n",
    "    \n",
    "    return True\n",
    "\n",
    "# Given a set of frequent itemsets F and a size k,\n",
    "# constructs all possible k+1 sized candidate itemsets\n",
    "def candidate_gen(F, k):\n",
    "    candidates = set()\n",
    "    \n",
    "    k_sized_sets = list(filter(lambda s: len(s) == k, F))\n",
    "    for (first, second) in itertools.combinations(k_sized_sets, r=2):\n",
    "        joined = first.union(second)\n",
    "        if len(joined) == k+1 and is_valid_candidate(F, joined):\n",
    "            candidates.add(frozenset(joined))\n",
    "\n",
    "    return candidates"
   ]
  },
  {
   "cell_type": "code",
   "execution_count": 167,
   "id": "0f396c5a",
   "metadata": {},
   "outputs": [],
   "source": [
    "def check_subset(row, s):\n",
    "    return s.issubset(set(row))"
   ]
  },
  {
   "cell_type": "code",
   "execution_count": 168,
   "id": "8e61d55f",
   "metadata": {},
   "outputs": [],
   "source": [
    "def support(T, iset):\n",
    "    support = 0\n",
    "    for idx in T.index:\n",
    "        rowset = set(T.loc[idx])\n",
    "        if iset.issubset(rowset):\n",
    "            support += 1\n",
    "            \n",
    "    return support"
   ]
  },
  {
   "cell_type": "code",
   "execution_count": 169,
   "id": "da51f143",
   "metadata": {},
   "outputs": [],
   "source": [
    "def apriori(T, I, minSup):\n",
    "    counts = {}\n",
    "    flags = {}\n",
    "    k = 2\n",
    "    n_rows = len(T.index)\n",
    "    F_cur = {frozenset({i}) for i in I if support(T, {i}) / n_rows >= minSup}\n",
    "    F = F_cur\n",
    "        \n",
    "    while len(F_cur) > 0:\n",
    "        for iset in F_cur:\n",
    "            flags[iset] = True\n",
    "            \n",
    "        candidates = candidate_gen(F_cur, k-1)\n",
    "        for c in candidates:\n",
    "            counts[c] = 0\n",
    "        for idx in T.index:\n",
    "            row = T.loc[idx]\n",
    "            for c in candidates:\n",
    "                if check_subset(row, c):\n",
    "                    counts[c] += 1\n",
    "       \n",
    "        F_next = {c for c in candidates if counts[c] / n_rows >= minSup}\n",
    "        for s1 in F_cur:\n",
    "            for s2 in F_next:\n",
    "                if s1.issubset(s2):\n",
    "                    flags[s1] = False\n",
    "                    \n",
    "        F_cur = F_next\n",
    "        F = F.union(F_cur)\n",
    "        k += 1\n",
    "    \n",
    "    return {iset for iset in F if flags[iset]}"
   ]
  },
  {
   "cell_type": "code",
   "execution_count": 182,
   "id": "5eae9045",
   "metadata": {},
   "outputs": [
    {
     "data": {
      "text/plain": [
       "{frozenset({0, 2, 46}),\n",
       " frozenset({10}),\n",
       " frozenset({25}),\n",
       " frozenset({30}),\n",
       " frozenset({4, 9}),\n",
       " frozenset({3, 18, 35}),\n",
       " frozenset({12, 31, 36, 48}),\n",
       " frozenset({39}),\n",
       " frozenset({8}),\n",
       " frozenset({27, 28}),\n",
       " frozenset({1, 19}),\n",
       " frozenset({13}),\n",
       " frozenset({7, 11, 37, 45}),\n",
       " frozenset({26}),\n",
       " frozenset({5, 22}),\n",
       " frozenset({17, 29, 47}),\n",
       " frozenset({38}),\n",
       " frozenset({33, 42}),\n",
       " frozenset({34}),\n",
       " frozenset({7, 15, 49}),\n",
       " frozenset({20}),\n",
       " frozenset({14, 44}),\n",
       " frozenset({6}),\n",
       " frozenset({23, 24, 40, 41, 43}),\n",
       " frozenset({21}),\n",
       " frozenset({16, 32, 45})}"
      ]
     },
     "execution_count": 182,
     "metadata": {},
     "output_type": "execute_result"
    }
   ],
   "source": [
    "df_bakery = parse_csv(from_url(bakery_dataset5000_url))\n",
    "apriori(df_bakery, bakery_items, 0.02)"
   ]
  },
  {
   "cell_type": "code",
   "execution_count": 184,
   "id": "d82c93f9",
   "metadata": {},
   "outputs": [
    {
     "data": {
      "text/plain": [
       "{frozenset({40}),\n",
       " frozenset({0, 46}),\n",
       " frozenset({49}),\n",
       " frozenset({43}),\n",
       " frozenset({10}),\n",
       " frozenset({25}),\n",
       " frozenset({1}),\n",
       " frozenset({36}),\n",
       " frozenset({30}),\n",
       " frozenset({4, 9}),\n",
       " frozenset({3, 18, 35}),\n",
       " frozenset({23}),\n",
       " frozenset({39}),\n",
       " frozenset({14}),\n",
       " frozenset({24}),\n",
       " frozenset({8}),\n",
       " frozenset({27, 28}),\n",
       " frozenset({45}),\n",
       " frozenset({13}),\n",
       " frozenset({31}),\n",
       " frozenset({41}),\n",
       " frozenset({48}),\n",
       " frozenset({11}),\n",
       " frozenset({17}),\n",
       " frozenset({44}),\n",
       " frozenset({26}),\n",
       " frozenset({47}),\n",
       " frozenset({37}),\n",
       " frozenset({5, 22}),\n",
       " frozenset({15}),\n",
       " frozenset({12}),\n",
       " frozenset({38}),\n",
       " frozenset({33, 42}),\n",
       " frozenset({2}),\n",
       " frozenset({16, 32}),\n",
       " frozenset({34}),\n",
       " frozenset({20}),\n",
       " frozenset({7}),\n",
       " frozenset({29}),\n",
       " frozenset({6}),\n",
       " frozenset({19}),\n",
       " frozenset({21})}"
      ]
     },
     "execution_count": 184,
     "metadata": {},
     "output_type": "execute_result"
    }
   ],
   "source": [
    "df_bakery = parse_csv(from_url(bakery_dataset20000_url))\n",
    "apriori(df_bakery, bakery_items, 0.04)"
   ]
  },
  {
   "cell_type": "code",
   "execution_count": 171,
   "id": "1c9cf6f0",
   "metadata": {},
   "outputs": [
    {
     "data": {
      "text/plain": [
       "{frozenset({91}), frozenset({743}), frozenset({1109}), frozenset({644})}"
      ]
     },
     "execution_count": 171,
     "metadata": {},
     "output_type": "execute_result"
    }
   ],
   "source": [
    "df_bingo = parse_csv(from_url(bingo_dataset_url))\n",
    "apriori(df_bingo, bingo_items, 0.3)"
   ]
  },
  {
   "cell_type": "code",
   "execution_count": null,
   "id": "cc6382fc",
   "metadata": {},
   "outputs": [],
   "source": []
  }
 ],
 "metadata": {
  "kernelspec": {
   "display_name": "Python 3",
   "language": "python",
   "name": "python3"
  },
  "language_info": {
   "codemirror_mode": {
    "name": "ipython",
    "version": 3
   },
   "file_extension": ".py",
   "mimetype": "text/x-python",
   "name": "python",
   "nbconvert_exporter": "python",
   "pygments_lexer": "ipython3",
   "version": "3.8.8"
  }
 },
 "nbformat": 4,
 "nbformat_minor": 5
}
